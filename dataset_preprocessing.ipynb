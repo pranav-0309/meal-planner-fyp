{
 "cells": [
  {
   "cell_type": "code",
   "execution_count": 1,
   "metadata": {},
   "outputs": [],
   "source": [
    "# Imports for this file\n",
    "import pandas as pd"
   ]
  },
  {
   "cell_type": "code",
   "execution_count": 2,
   "metadata": {},
   "outputs": [],
   "source": [
    "# Importing the dataset\n",
    "recipe_data = pd.read_csv('full_dataset.csv')"
   ]
  },
  {
   "cell_type": "code",
   "execution_count": 3,
   "metadata": {},
   "outputs": [
    {
     "name": "stdout",
     "output_type": "stream",
     "text": [
      "<class 'pandas.core.frame.DataFrame'>\n",
      "RangeIndex: 2231142 entries, 0 to 2231141\n",
      "Data columns (total 7 columns):\n",
      " #   Column       Dtype \n",
      "---  ------       ----- \n",
      " 0   Unnamed: 0   int64 \n",
      " 1   title        object\n",
      " 2   ingredients  object\n",
      " 3   directions   object\n",
      " 4   link         object\n",
      " 5   source       object\n",
      " 6   NER          object\n",
      "dtypes: int64(1), object(6)\n",
      "memory usage: 119.2+ MB\n"
     ]
    }
   ],
   "source": [
    "# Getting info about the columns in the dataset\n",
    "recipe_data.info()"
   ]
  },
  {
   "cell_type": "code",
   "execution_count": 4,
   "metadata": {},
   "outputs": [
    {
     "name": "stdout",
     "output_type": "stream",
     "text": [
      "Unnamed: 0     0\n",
      "ingredients    0\n",
      "directions     0\n",
      "link           0\n",
      "source         0\n",
      "NER            0\n",
      "title          1\n",
      "dtype: int64\n"
     ]
    }
   ],
   "source": [
    "# Count null values in each column\n",
    "null_counts = recipe_data.isnull().sum().sort_values()\n",
    "print(null_counts)"
   ]
  },
  {
   "cell_type": "code",
   "execution_count": 5,
   "metadata": {},
   "outputs": [
    {
     "name": "stdout",
     "output_type": "stream",
     "text": [
      "         Unnamed: 0 title         ingredients  \\\n",
      "1394448     1394448   NaN  [\"2 pieces bacon\"]   \n",
      "\n",
      "                                                directions  \\\n",
      "1394448  [\"Slice bacon into lardons, place in nonstick ...   \n",
      "\n",
      "                                  link    source        NER  \n",
      "1394448  food52.com/recipes/57431-none  Gathered  [\"bacon\"]  \n"
     ]
    }
   ],
   "source": [
    "# Display the row where title is null\n",
    "print(recipe_data[recipe_data['title'].isnull()])"
   ]
  },
  {
   "cell_type": "code",
   "execution_count": 6,
   "metadata": {},
   "outputs": [],
   "source": [
    "# Find the index of the null title and update it\n",
    "recipe_data.loc[recipe_data['title'].isnull(), 'title'] = 'Sliced Bacon'"
   ]
  },
  {
   "cell_type": "code",
   "execution_count": 7,
   "metadata": {},
   "outputs": [
    {
     "name": "stdout",
     "output_type": "stream",
     "text": [
      "         Unnamed: 0         title         ingredients  \\\n",
      "1394448     1394448  Sliced Bacon  [\"2 pieces bacon\"]   \n",
      "\n",
      "                                                directions  \\\n",
      "1394448  [\"Slice bacon into lardons, place in nonstick ...   \n",
      "\n",
      "                                  link    source        NER  \n",
      "1394448  food52.com/recipes/57431-none  Gathered  [\"bacon\"]  \n"
     ]
    }
   ],
   "source": [
    "print(recipe_data[recipe_data['title'] == 'Sliced Bacon'])"
   ]
  },
  {
   "cell_type": "code",
   "execution_count": 8,
   "metadata": {},
   "outputs": [
    {
     "name": "stdout",
     "output_type": "stream",
     "text": [
      "Unnamed: 0     0\n",
      "title          0\n",
      "ingredients    0\n",
      "directions     0\n",
      "link           0\n",
      "source         0\n",
      "NER            0\n",
      "dtype: int64\n"
     ]
    }
   ],
   "source": [
    "# Double checking for any other null values\n",
    "new_null_counts = recipe_data.isnull().sum().sort_values()\n",
    "print(new_null_counts)"
   ]
  },
  {
   "cell_type": "code",
   "execution_count": 9,
   "metadata": {},
   "outputs": [],
   "source": [
    "# Select only title, ingredients, and directions columns\n",
    "filtered_recipe_data = recipe_data[['title', 'ingredients', 'directions']]"
   ]
  },
  {
   "cell_type": "code",
   "execution_count": 12,
   "metadata": {},
   "outputs": [],
   "source": [
    "# Remove brackets and quotes, and join elements with commas\n",
    "filtered_recipe_data['ingredients'] = filtered_recipe_data['ingredients'].apply(lambda x: x.strip('[]').replace('\"', '').replace(\"'\", \"\"))\n",
    "filtered_recipe_data['directions'] = filtered_recipe_data['directions'].apply(lambda x: x.strip('[]').replace('\"', '').replace(\"'\", \"\"))"
   ]
  },
  {
   "cell_type": "code",
   "execution_count": 13,
   "metadata": {},
   "outputs": [
    {
     "data": {
      "text/html": [
       "<div>\n",
       "<style scoped>\n",
       "    .dataframe tbody tr th:only-of-type {\n",
       "        vertical-align: middle;\n",
       "    }\n",
       "\n",
       "    .dataframe tbody tr th {\n",
       "        vertical-align: top;\n",
       "    }\n",
       "\n",
       "    .dataframe thead th {\n",
       "        text-align: right;\n",
       "    }\n",
       "</style>\n",
       "<table border=\"1\" class=\"dataframe\">\n",
       "  <thead>\n",
       "    <tr style=\"text-align: right;\">\n",
       "      <th></th>\n",
       "      <th>title</th>\n",
       "      <th>ingredients</th>\n",
       "      <th>directions</th>\n",
       "    </tr>\n",
       "  </thead>\n",
       "  <tbody>\n",
       "    <tr>\n",
       "      <th>0</th>\n",
       "      <td>No-Bake Nut Cookies</td>\n",
       "      <td>1 c. firmly packed brown sugar, 1/2 c. evapora...</td>\n",
       "      <td>In a heavy 2-quart saucepan, mix brown sugar, ...</td>\n",
       "    </tr>\n",
       "    <tr>\n",
       "      <th>1</th>\n",
       "      <td>Jewell Ball'S Chicken</td>\n",
       "      <td>1 small jar chipped beef, cut up, 4 boned chic...</td>\n",
       "      <td>Place chipped beef on bottom of baking dish., ...</td>\n",
       "    </tr>\n",
       "    <tr>\n",
       "      <th>2</th>\n",
       "      <td>Creamy Corn</td>\n",
       "      <td>2 (16 oz.) pkg. frozen corn, 1 (8 oz.) pkg. cr...</td>\n",
       "      <td>In a slow cooker, combine all ingredients. Cov...</td>\n",
       "    </tr>\n",
       "    <tr>\n",
       "      <th>3</th>\n",
       "      <td>Chicken Funny</td>\n",
       "      <td>1 large whole chicken, 2 (10 1/2 oz.) cans chi...</td>\n",
       "      <td>Boil and debone chicken., Put bite size pieces...</td>\n",
       "    </tr>\n",
       "    <tr>\n",
       "      <th>4</th>\n",
       "      <td>Reeses Cups(Candy)</td>\n",
       "      <td>1 c. peanut butter, 3/4 c. graham cracker crum...</td>\n",
       "      <td>Combine first four ingredients and press in 13...</td>\n",
       "    </tr>\n",
       "  </tbody>\n",
       "</table>\n",
       "</div>"
      ],
      "text/plain": [
       "                   title                                        ingredients  \\\n",
       "0    No-Bake Nut Cookies  1 c. firmly packed brown sugar, 1/2 c. evapora...   \n",
       "1  Jewell Ball'S Chicken  1 small jar chipped beef, cut up, 4 boned chic...   \n",
       "2            Creamy Corn  2 (16 oz.) pkg. frozen corn, 1 (8 oz.) pkg. cr...   \n",
       "3          Chicken Funny  1 large whole chicken, 2 (10 1/2 oz.) cans chi...   \n",
       "4   Reeses Cups(Candy)    1 c. peanut butter, 3/4 c. graham cracker crum...   \n",
       "\n",
       "                                          directions  \n",
       "0  In a heavy 2-quart saucepan, mix brown sugar, ...  \n",
       "1  Place chipped beef on bottom of baking dish., ...  \n",
       "2  In a slow cooker, combine all ingredients. Cov...  \n",
       "3  Boil and debone chicken., Put bite size pieces...  \n",
       "4  Combine first four ingredients and press in 13...  "
      ]
     },
     "execution_count": 13,
     "metadata": {},
     "output_type": "execute_result"
    }
   ],
   "source": [
    "# Checking if it's a String now\n",
    "filtered_recipe_data.head()"
   ]
  },
  {
   "cell_type": "code",
   "execution_count": 14,
   "metadata": {},
   "outputs": [],
   "source": [
    "# Saving the final dataset to a new CSV file\n",
    "filtered_recipe_data.to_csv('final_recipe_dataset.csv', index=False)"
   ]
  },
  {
   "cell_type": "code",
   "execution_count": null,
   "metadata": {},
   "outputs": [],
   "source": [
    "# Save 1M rows to a new CSV file\n",
    "filtered_recipe_data.iloc[:1000000].to_csv('1M_recipe_dataset.csv', index=False)"
   ]
  }
 ],
 "metadata": {
  "kernelspec": {
   "display_name": "base",
   "language": "python",
   "name": "python3"
  },
  "language_info": {
   "codemirror_mode": {
    "name": "ipython",
    "version": 3
   },
   "file_extension": ".py",
   "mimetype": "text/x-python",
   "name": "python",
   "nbconvert_exporter": "python",
   "pygments_lexer": "ipython3",
   "version": "3.12.3"
  }
 },
 "nbformat": 4,
 "nbformat_minor": 2
}
